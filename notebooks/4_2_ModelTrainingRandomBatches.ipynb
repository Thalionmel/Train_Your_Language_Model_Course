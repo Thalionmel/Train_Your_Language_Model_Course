{
 "cells": [
  {
   "cell_type": "markdown",
   "metadata": {},
   "source": [
    "## Load the tokenizer"
   ]
  },
  {
   "cell_type": "code",
   "execution_count": 18,
   "metadata": {},
   "outputs": [],
   "source": [
    "import sys\n",
    "sys.path.append('..')"
   ]
  },
  {
   "cell_type": "code",
   "execution_count": 19,
   "metadata": {},
   "outputs": [],
   "source": [
    "from minbpe import BasicTokenizer\n",
    "\n",
    "tokenizer = BasicTokenizer()\n",
    "tokenizer.load(model_file=\"../output/tokenizer/my_tokenizer.model\")\n",
    "\n",
    "\n",
    "def get_vocab_size(tokenizer: BasicTokenizer) -> int:\n",
    "    vocab = tokenizer.vocab\n",
    "    special_tokens = tokenizer.special_tokens\n",
    "\n",
    "    return len(vocab) + len(special_tokens)"
   ]
  },
  {
   "cell_type": "markdown",
   "metadata": {},
   "source": [
    "## Create the model"
   ]
  },
  {
   "cell_type": "code",
   "execution_count": 20,
   "metadata": {},
   "outputs": [
    {
     "data": {
      "text/plain": [
       "<torch._C.Generator at 0x197fd96bd70>"
      ]
     },
     "execution_count": 20,
     "metadata": {},
     "output_type": "execute_result"
    }
   ],
   "source": [
    "import torch\n",
    "torch.manual_seed(3647)"
   ]
  },
  {
   "cell_type": "code",
   "execution_count": null,
   "metadata": {},
   "outputs": [
    {
     "name": "stdout",
     "output_type": "stream",
     "text": [
      "1.318922 M parameters\n"
     ]
    }
   ],
   "source": [
    "from transformer.model import GPTLanguageModel\n",
    "\n",
    "block_size = 512\n",
    "n_embd = 128\n",
    "n_head = 8\n",
    "n_layer = 1\n",
    "dropout = 0.3\n",
    "batch_size = 128\n",
    "vocab_size = get_vocab_size(tokenizer)\n",
    "device = 'cuda' if torch.cuda.is_available() else 'cpu'\n",
    "\n",
    "model = GPTLanguageModel(\n",
    "    vocab_size=vocab_size,\n",
    "    block_size=block_size,\n",
    "    n_embd=n_embd,\n",
    "    n_head=n_head,\n",
    "    n_layer=n_layer,\n",
    "    dropout=dropout,\n",
    "    device=device\n",
    ").to(device)\n",
    "model = torch.compile(model)\n",
    "\n",
    "print(sum(p.numel() for p in model.parameters())/1e6, 'M parameters')"
   ]
  },
  {
   "cell_type": "markdown",
   "metadata": {},
   "source": [
    "## Data preparation"
   ]
  },
  {
   "cell_type": "markdown",
   "metadata": {},
   "source": [
    "### 1. Load the data"
   ]
  },
  {
   "cell_type": "code",
   "execution_count": 22,
   "metadata": {},
   "outputs": [
    {
     "data": {
      "text/plain": [
       "70220"
      ]
     },
     "execution_count": 22,
     "metadata": {},
     "output_type": "execute_result"
    }
   ],
   "source": [
    "with open(\"../data/text_sequence.json\", \"r\", encoding=\"utf-8\") as f:\n",
    "    text_sequence = f.read()\n",
    "\n",
    "encoded_text_sequence = tokenizer.encode(text_sequence)\n",
    "len(encoded_text_sequence)"
   ]
  },
  {
   "cell_type": "markdown",
   "metadata": {},
   "source": [
    "### 2. Split it into train and test"
   ]
  },
  {
   "cell_type": "code",
   "execution_count": 23,
   "metadata": {},
   "outputs": [],
   "source": [
    "data = torch.tensor(encoded_text_sequence, dtype=torch.long)\n",
    "\n",
    "# Build random non-overlapping start positions for block windows\n",
    "num_positions = len(data) - block_size - 1\n",
    "perm = torch.randperm(num_positions)\n",
    "\n",
    "cut = int(0.9 * num_positions)\n",
    "train_idx = perm[:cut]\n",
    "val_idx = perm[cut:]\n"
   ]
  },
  {
   "cell_type": "markdown",
   "metadata": {},
   "source": [
    "### 3. Data loader"
   ]
  },
  {
   "cell_type": "code",
   "execution_count": 24,
   "metadata": {},
   "outputs": [],
   "source": [
    "from typing import Tuple\n",
    "\n",
    "def get_batch(split: str) -> Tuple[torch.Tensor, torch.Tensor]:\n",
    "    idxs = train_idx if split == 'train' else val_idx\n",
    "    # sample batch of starting positions\n",
    "    starts = idxs[torch.randint(len(idxs), (batch_size,))]\n",
    "    x = torch.stack([data[s:s+block_size] for s in starts])\n",
    "    y = torch.stack([data[s+1:s+block_size+1] for s in starts])\n",
    "    return x.to(device), y.to(device)\n"
   ]
  },
  {
   "cell_type": "code",
   "execution_count": 25,
   "metadata": {},
   "outputs": [
    {
     "data": {
      "text/plain": [
       "(torch.Size([128, 512]), torch.Size([128, 512]))"
      ]
     },
     "execution_count": 25,
     "metadata": {},
     "output_type": "execute_result"
    }
   ],
   "source": [
    "x, y = get_batch('train')\n",
    "x.shape, y.shape"
   ]
  },
  {
   "cell_type": "markdown",
   "metadata": {},
   "source": [
    "### 4. Training"
   ]
  },
  {
   "cell_type": "code",
   "execution_count": 26,
   "metadata": {},
   "outputs": [],
   "source": [
    "from typing import Dict\n",
    "\n",
    "eval_iters = 400\n",
    "\n",
    "\n",
    "@torch.no_grad()\n",
    "def estimate_loss() -> Dict:\n",
    "    output = {}\n",
    "    model.eval()\n",
    "    for split in ['train', 'val']:\n",
    "        losses = torch.zeros(eval_iters)\n",
    "        for k in range(eval_iters):\n",
    "            x, y = get_batch(split)\n",
    "            _, loss = model(x, y)\n",
    "            losses[k] = loss.item()\n",
    "        output[split] = losses.mean()\n",
    "    model.train()\n",
    "    return output"
   ]
  },
  {
   "cell_type": "code",
   "execution_count": 28,
   "metadata": {},
   "outputs": [],
   "source": [
    "def save_checkpoint(\n",
    "    model: GPTLanguageModel,\n",
    "    optimizer: torch.optim.Optimizer,\n",
    "    epoch: int,\n",
    "    loss: float,\n",
    "    file_path: str = \"checkpoint.pth\"\n",
    ") -> None:\n",
    "    checkpoint = {\n",
    "        'epoch': epoch,\n",
    "        'model_state_dict': model.state_dict(),\n",
    "        'optimizer_state_dict': optimizer.state_dict(),\n",
    "        'loss': loss\n",
    "    }\n",
    "    torch.save(checkpoint, file_path)"
   ]
  },
  {
   "cell_type": "code",
   "execution_count": 29,
   "metadata": {},
   "outputs": [
    {
     "name": "stdout",
     "output_type": "stream",
     "text": [
      "step 0: train loss 8.3481, val loss 8.3482\n",
      "step 10: train loss 8.3337, val loss 8.3337\n",
      "step 20: train loss 8.2940, val loss 8.2939\n",
      "step 30: train loss 8.2432, val loss 8.2432\n",
      "step 40: train loss 8.1923, val loss 8.1923\n",
      "step 50: train loss 8.1425, val loss 8.1424\n",
      "step 60: train loss 8.0946, val loss 8.0944\n",
      "step 70: train loss 8.0498, val loss 8.0497\n",
      "step 80: train loss 8.0081, val loss 8.0081\n",
      "step 90: train loss 7.9698, val loss 7.9696\n",
      "step 100: train loss 7.9338, val loss 7.9335\n",
      "step 110: train loss 7.9000, val loss 7.8998\n",
      "step 120: train loss 7.8686, val loss 7.8684\n",
      "step 130: train loss 7.8395, val loss 7.8389\n",
      "step 140: train loss 7.8120, val loss 7.8114\n",
      "step 150: train loss 7.7863, val loss 7.7860\n",
      "step 160: train loss 7.7621, val loss 7.7622\n",
      "step 170: train loss 7.7397, val loss 7.7390\n",
      "step 180: train loss 7.7176, val loss 7.7172\n",
      "step 190: train loss 7.6963, val loss 7.6960\n",
      "step 200: train loss 7.6759, val loss 7.6757\n",
      "step 210: train loss 7.6561, val loss 7.6559\n",
      "step 220: train loss 7.6377, val loss 7.6377\n",
      "step 230: train loss 7.6198, val loss 7.6189\n",
      "step 240: train loss 7.6017, val loss 7.6013\n",
      "step 250: train loss 7.5846, val loss 7.5840\n",
      "step 260: train loss 7.5671, val loss 7.5667\n",
      "step 270: train loss 7.5505, val loss 7.5503\n",
      "step 280: train loss 7.5331, val loss 7.5330\n",
      "step 290: train loss 7.5170, val loss 7.5165\n",
      "step 300: train loss 7.4999, val loss 7.5001\n",
      "step 310: train loss 7.4828, val loss 7.4826\n",
      "step 320: train loss 7.4663, val loss 7.4658\n",
      "step 330: train loss 7.4497, val loss 7.4488\n",
      "step 340: train loss 7.4324, val loss 7.4325\n",
      "step 350: train loss 7.4155, val loss 7.4153\n",
      "step 360: train loss 7.3989, val loss 7.3993\n",
      "step 370: train loss 7.3824, val loss 7.3822\n",
      "step 380: train loss 7.3651, val loss 7.3652\n",
      "step 390: train loss 7.3488, val loss 7.3487\n",
      "step 400: train loss 7.3322, val loss 7.3324\n",
      "step 410: train loss 7.3159, val loss 7.3160\n",
      "step 420: train loss 7.2999, val loss 7.2999\n",
      "step 430: train loss 7.2840, val loss 7.2846\n",
      "step 440: train loss 7.2683, val loss 7.2685\n",
      "step 450: train loss 7.2541, val loss 7.2537\n",
      "step 460: train loss 7.2386, val loss 7.2390\n",
      "step 470: train loss 7.2245, val loss 7.2245\n",
      "step 480: train loss 7.2105, val loss 7.2102\n",
      "step 490: train loss 7.1965, val loss 7.1966\n",
      "step 500: train loss 7.1836, val loss 7.1843\n",
      "step 510: train loss 7.1705, val loss 7.1711\n",
      "step 520: train loss 7.1573, val loss 7.1572\n",
      "step 530: train loss 7.1449, val loss 7.1450\n",
      "step 540: train loss 7.1341, val loss 7.1343\n",
      "step 550: train loss 7.1217, val loss 7.1226\n",
      "step 560: train loss 7.1108, val loss 7.1105\n",
      "step 570: train loss 7.0997, val loss 7.1000\n",
      "step 580: train loss 7.0902, val loss 7.0900\n",
      "step 590: train loss 7.0798, val loss 7.0797\n",
      "step 600: train loss 7.0709, val loss 7.0709\n",
      "step 610: train loss 7.0611, val loss 7.0620\n",
      "step 620: train loss 7.0534, val loss 7.0530\n",
      "step 630: train loss 7.0443, val loss 7.0447\n",
      "step 640: train loss 7.0364, val loss 7.0369\n",
      "step 650: train loss 7.0288, val loss 7.0290\n",
      "step 660: train loss 7.0223, val loss 7.0220\n",
      "step 670: train loss 7.0153, val loss 7.0158\n",
      "step 680: train loss 7.0089, val loss 7.0092\n",
      "step 690: train loss 7.0034, val loss 7.0027\n",
      "step 700: train loss 6.9977, val loss 6.9977\n",
      "step 710: train loss 6.9925, val loss 6.9923\n",
      "step 720: train loss 6.9876, val loss 6.9878\n",
      "step 730: train loss 6.9823, val loss 6.9824\n",
      "step 740: train loss 6.9784, val loss 6.9786\n",
      "step 750: train loss 6.9740, val loss 6.9745\n",
      "step 760: train loss 6.9707, val loss 6.9707\n",
      "step 770: train loss 6.9673, val loss 6.9675\n",
      "step 780: train loss 6.9643, val loss 6.9641\n",
      "step 790: train loss 6.9613, val loss 6.9612\n",
      "step 800: train loss 6.9586, val loss 6.9592\n",
      "step 810: train loss 6.9558, val loss 6.9560\n",
      "step 820: train loss 6.9538, val loss 6.9542\n",
      "step 830: train loss 6.9516, val loss 6.9525\n",
      "step 840: train loss 6.9503, val loss 6.9505\n",
      "step 850: train loss 6.9490, val loss 6.9491\n",
      "step 860: train loss 6.9477, val loss 6.9477\n",
      "step 870: train loss 6.9461, val loss 6.9464\n",
      "step 880: train loss 6.9451, val loss 6.9456\n",
      "step 890: train loss 6.9445, val loss 6.9444\n",
      "step 900: train loss 6.9435, val loss 6.9436\n",
      "step 910: train loss 6.9431, val loss 6.9431\n",
      "step 920: train loss 6.9424, val loss 6.9426\n",
      "step 930: train loss 6.9421, val loss 6.9424\n",
      "step 940: train loss 6.9426, val loss 6.9419\n",
      "step 950: train loss 6.9415, val loss 6.9417\n",
      "step 960: train loss 6.9413, val loss 6.9419\n",
      "step 970: train loss 6.9416, val loss 6.9421\n",
      "step 980: train loss 6.9415, val loss 6.9420\n",
      "step 990: train loss 6.9415, val loss 6.9416\n",
      "step 999: train loss 6.9411, val loss 6.9416\n"
     ]
    }
   ],
   "source": [
    "import torch; import torch._dynamo; torch._dynamo.config.suppress_errors = True\n",
    "\n",
    "max_iters = 1000\n",
    "eval_interval = 10\n",
    "learning_rate = 5e-5\n",
    "save_interval = 100\n",
    "\n",
    "# ✅ Slightly stronger AdamW setup\n",
    "optimizer = torch.optim.AdamW(\n",
    "    model.parameters(),\n",
    "    lr=learning_rate,\n",
    "    betas=(0.9, 0.95),\n",
    "    weight_decay=0.1,\n",
    ")\n",
    "\n",
    "# ✅ Simple linear warmup (first 2% steps) then cosine decay\n",
    "warmup_steps = max(1, int(0.02 * max_iters))\n",
    "def lr_lambda(step):\n",
    "    if step < warmup_steps:\n",
    "        return float(step + 1) / float(warmup_steps)\n",
    "    # cosine to zero\n",
    "    progress = (step - warmup_steps) / max(1, (max_iters - warmup_steps))\n",
    "    return 0.5 * (1.0 + torch.cos(torch.tensor(progress * 3.1415926535)))\n",
    "\n",
    "scheduler = torch.optim.lr_scheduler.LambdaLR(optimizer, lr_lambda=lambda step: lr_lambda(step))\n",
    "\n",
    "train_losses = []\n",
    "val_losses = []\n",
    "\n",
    "# ✅ Track and save best validation loss\n",
    "best_val = float(\"inf\")\n",
    "best_ckpt_path = \"../output/pre_training/run_1/best.pth\"\n",
    "\n",
    "\n",
    "for iteration in range(max_iters):\n",
    "    # Evaluate\n",
    "    if iteration % eval_interval == 0 or iteration == max_iters - 1:\n",
    "        losses = estimate_loss()\n",
    "        train_loss = losses['train'].item() if hasattr(losses['train'], 'item') else float(losses['train'])\n",
    "        val_loss = losses['val'].item() if hasattr(losses['val'], 'item') else float(losses['val'])\n",
    "        train_losses.append(train_loss)\n",
    "        val_losses.append(val_loss)\n",
    "        print(f\"step {iteration}: train loss {train_loss:.4f}, val loss {val_loss:.4f}\")\n",
    "\n",
    "        # ✅ Save best model so far\n",
    "        if val_loss < best_val:\n",
    "            best_val = val_loss\n",
    "            torch.save(model.state_dict(), best_ckpt_path)\n",
    "\n",
    "    # Train step\n",
    "    x_batch, y_batch = get_batch('train')\n",
    "    logits, loss = model(x_batch, y_batch)\n",
    "\n",
    "    optimizer.zero_grad(set_to_none=True)\n",
    "    loss.backward()\n",
    "\n",
    "    # ✅ gentle gradient clipping for stability\n",
    "    torch.nn.utils.clip_grad_norm_(model.parameters(), 1.0)\n",
    "\n",
    "    optimizer.step()\n",
    "    scheduler.step()  # ✅ update LR each step\n",
    "\n",
    "    # Optional periodic full checkpoint (kept from your code)\n",
    "    if iteration % save_interval == 0:\n",
    "        save_checkpoint(\n",
    "            model=model,\n",
    "            optimizer=optimizer,\n",
    "            epoch=iteration,\n",
    "            loss=loss.item(),\n",
    "            file_path=f\"../output/pre_training/run_1/checkpoint_{iteration}.pth\"\n",
    "        )\n"
   ]
  },
  {
   "cell_type": "code",
   "execution_count": 31,
   "metadata": {},
   "outputs": [
    {
     "data": {
      "image/png": "[encoded data removed]",
      "text/plain": [
       "<Figure size 1000x500 with 1 Axes>"
      ]
     },
     "metadata": {},
     "output_type": "display_data"
    }
   ],
   "source": [
    "import matplotlib.pyplot as plt\n",
    "\n",
    "plt.figure(figsize=(10, 5))\n",
    "plt.plot(train_losses, label=\"Train Loss\")\n",
    "plt.plot(val_losses, label=\"Validation Loss\")\n",
    "plt.xlabel(\"Evaluation Step\")\n",
    "plt.ylim(0)\n",
    "plt.ylabel(\"Loss\")\n",
    "plt.title(\"Training and Validation Loss Over Time\")\n",
    "plt.legend()\n",
    "plt.grid()\n",
    "plt.show()"
   ]
  },
  {
   "cell_type": "code",
   "execution_count": 35,
   "metadata": {},
   "outputs": [
    {
     "name": "stdout",
     "output_type": "stream",
     "text": [
      "Schreibe in dritter Person Präteritum, kurze Sätze.\n",
      "Figur: Aaliyah, Prinzessin im Exil.\n",
      "Szene: Nächtlicher Innenhof. Kara verlangt die Wahrheit.\n",
      "Antwort: seheit Jeliowarhast Ande istLEs ehvort. so viel euch , dass sicherKönig blickte von traues nicht an en wollAranien ihrem LüHerz nie ache Dich etwasA, dass ihr mit dem shTunst, ist ein wieder Troallhat aber einem �z Geschichbin die Tennen  damit ste fliefTeilen. Und egalte sich  da sie waronenß beobachspielein soll terer eine hätWorte nichtt und bezweifet, was Dir BoWas was ich wenn du.\\\" sie  direkinteressierächte. \\\"o! Ich ssteigGesicht en und vor wo sie ge mit dem nochmal erin hoeinfach GrossOnk, aber ich täuäschla die KelerzGedanken tun . Du von dem hatte erne das Eist das – uns etzt die Vielleichs. \\\". \\\"Du zeiArbogast sich in Warbei gesehglauben s offensproch dirauf sichtlich war so wenn n meinst er mein \n"
     ]
    }
   ],
   "source": [
    "# A better, more specific prompt + safer decoding settings\n",
    "prompt = (\n",
    "    \"Schreibe in dritter Person Präteritum, kurze Sätze.\\n\"\n",
    "    \"Figur: Aaliyah, Prinzessin im Exil.\\n\"\n",
    "    \"Szene: Nächtlicher Innenhof. Kara verlangt die Wahrheit.\\n\"\n",
    "    \"Antwort: \"\n",
    ")\n",
    "\n",
    "input_tokens = tokenizer.encode(prompt)\n",
    "input_tokens = torch.tensor(input_tokens, dtype=torch.long).unsqueeze(0).to(device)\n",
    "\n",
    "model.eval()\n",
    "with torch.no_grad():\n",
    "    output = model.generate(input_tokens, max_new_tokens=150)\n",
    "print(tokenizer.decode(output[0].tolist()))\n"
   ]
  }
 ],
 "metadata": {
  "kernelspec": {
   "display_name": "Python 3",
   "language": "python",
   "name": "python3"
  },
  "language_info": {
   "codemirror_mode": {
    "name": "ipython",
    "version": 3
   },
   "file_extension": ".py",
   "mimetype": "text/x-python",
   "name": "python",
   "nbconvert_exporter": "python",
   "pygments_lexer": "ipython3",
   "version": "3.11.4"
  }
 },
 "nbformat": 4,
 "nbformat_minor": 2
}
